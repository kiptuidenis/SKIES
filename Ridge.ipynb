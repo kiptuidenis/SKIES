{
  "nbformat": 4,
  "nbformat_minor": 0,
  "metadata": {
    "colab": {
      "provenance": [],
      "authorship_tag": "ABX9TyPb5e2r9BeuPxij7fxiSl5g",
      "include_colab_link": true
    },
    "kernelspec": {
      "name": "python3",
      "display_name": "Python 3"
    },
    "language_info": {
      "name": "python"
    }
  },
  "cells": [
    {
      "cell_type": "markdown",
      "metadata": {
        "id": "view-in-github",
        "colab_type": "text"
      },
      "source": [
        "<a href=\"https://colab.research.google.com/github/kiptuidenis/SKIES/blob/main/Ridge.ipynb\" target=\"_parent\"><img src=\"https://colab.research.google.com/assets/colab-badge.svg\" alt=\"Open In Colab\"/></a>"
      ]
    },
    {
      "cell_type": "code",
      "execution_count": null,
      "metadata": {
        "colab": {
          "base_uri": "https://localhost:8080/"
        },
        "id": "PzIpdwL8SGZg",
        "outputId": "ad93b64b-0583-477a-9263-2ac16021e71a"
      },
      "outputs": [
        {
          "output_type": "stream",
          "name": "stdout",
          "text": [
            "Training set score: 0.63\n",
            "Test set score: 0.65\n",
            "Number of features used: 9\n"
          ]
        }
      ],
      "source": [
        "from sklearn.linear_model import Ridge\n",
        "import pandas as pd\n",
        "from sklearn.model_selection import train_test_split\n",
        "from sklearn.preprocessing import LabelEncoder\n",
        "import numpy as np\n",
        "\n",
        "houses_df = pd.read_csv(\"/content/housing.csv\")\n",
        "houses_df = houses_df.dropna()\n",
        "X = houses_df.drop(\"median_house_value\", axis=1)\n",
        "y = houses_df['median_house_value']\n",
        "\n",
        "# Encode our data\n",
        "le = LabelEncoder()\n",
        "X['ocean_proximity'] = le.fit_transform(X['ocean_proximity'])\n",
        "\n",
        "# Drop missing values\n",
        "\n",
        "\n",
        "X_train, X_test, y_train, y_test = train_test_split(X, y, random_state=42)\n",
        "\n",
        "ridge = Ridge(alpha=0)\n",
        "ridge.fit(X_train, y_train)\n",
        "print(\"Training set score: {:.2f}\".format(ridge.score(X_train, y_train)))\n",
        "print(\"Test set score: {:.2f}\".format(ridge.score(X_test, y_test)))\n",
        "print(\"Number of features used: {}\".format(np.sum(ridge.coef_ != 0)))"
      ]
    },
    {
      "cell_type": "code",
      "source": [],
      "metadata": {
        "id": "gAmFuTegUVlY"
      },
      "execution_count": null,
      "outputs": []
    },
    {
      "cell_type": "code",
      "source": [],
      "metadata": {
        "id": "nnyJM1RfUGzl"
      },
      "execution_count": null,
      "outputs": []
    }
  ]
}