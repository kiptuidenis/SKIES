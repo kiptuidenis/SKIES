{
  "nbformat": 4,
  "nbformat_minor": 0,
  "metadata": {
    "colab": {
      "provenance": [],
      "authorship_tag": "ABX9TyN+xsZS/Z2K/A5kX2QjFpQi",
      "include_colab_link": true
    },
    "kernelspec": {
      "name": "python3",
      "display_name": "Python 3"
    },
    "language_info": {
      "name": "python"
    }
  },
  "cells": [
    {
      "cell_type": "markdown",
      "metadata": {
        "id": "view-in-github",
        "colab_type": "text"
      },
      "source": [
        "<a href=\"https://colab.research.google.com/github/kiptuidenis/SKIES/blob/main/Lasso.ipynb\" target=\"_parent\"><img src=\"https://colab.research.google.com/assets/colab-badge.svg\" alt=\"Open In Colab\"/></a>"
      ]
    },
    {
      "cell_type": "code",
      "execution_count": null,
      "metadata": {
        "colab": {
          "base_uri": "https://localhost:8080/"
        },
        "id": "jpB020ZEfKZp",
        "outputId": "c89bce1b-feea-4518-cffe-6bddf920766b"
      },
      "outputs": [
        {
          "output_type": "stream",
          "name": "stdout",
          "text": [
            "Training set score: 0.53\n",
            "Test set score: 0.53\n",
            "Number of features used: 9\n"
          ]
        },
        {
          "output_type": "stream",
          "name": "stderr",
          "text": [
            "/usr/local/lib/python3.11/dist-packages/sklearn/linear_model/_coordinate_descent.py:695: ConvergenceWarning: Objective did not converge. You might want to increase the number of iterations, check the scale of the features or consider increasing regularisation. Duality gap: 4.808e+13, tolerance: 2.031e+10\n",
            "  model = cd_fast.enet_coordinate_descent(\n"
          ]
        }
      ],
      "source": [
        "from sklearn.linear_model import Lasso\n",
        "import pandas as pd\n",
        "from sklearn.preprocessing import LabelEncoder\n",
        "from sklearn.model_selection import train_test_split\n",
        "import numpy as np\n",
        "\n",
        "\n",
        "houses_df = pd.read_csv(\"/content/housing.csv\")\n",
        "\n",
        "# drop null values\n",
        "houses_df = houses_df.dropna()\n",
        "\n",
        "X = houses_df.drop(\"median_house_value\", axis=1)\n",
        "y = houses_df['median_house_value']\n",
        "\n",
        "# Encode\n",
        "le = LabelEncoder()\n",
        "X['ocean_proximity'] = le.fit_transform(X['ocean_proximity'])\n",
        "\n",
        "# split\n",
        "X_train, X_test, y_train, y_test = train_test_split(X, y, random_state=42)\n",
        "\n",
        "# Initialize Model\n",
        "lasso = Lasso(alpha=0.01, max_iter=1)\n",
        "\n",
        "# Train model\n",
        "lasso.fit(X_train, y_train)\n",
        "\n",
        "# Accuracy\n",
        "print(\"Training set score: {:.2f}\".format(lasso.score(X_train, y_train)))\n",
        "print(\"Test set score: {:.2f}\".format(lasso.score(X_test, y_test)))\n",
        "print(\"Number of features used: {}\".format(np.sum(lasso.coef_ != 0)))\n",
        "#print(\"coefficients: {}\".format(lasso.coef_))"
      ]
    },
    {
      "cell_type": "code",
      "source": [],
      "metadata": {
        "id": "zXx9U3aghDyD"
      },
      "execution_count": null,
      "outputs": []
    }
  ]
}