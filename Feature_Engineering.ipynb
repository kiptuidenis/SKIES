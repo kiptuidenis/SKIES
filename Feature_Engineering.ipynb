{
  "nbformat": 4,
  "nbformat_minor": 0,
  "metadata": {
    "colab": {
      "provenance": [],
      "authorship_tag": "ABX9TyPiS33kR34fU+0sGt0RMH/h",
      "include_colab_link": true
    },
    "kernelspec": {
      "name": "python3",
      "display_name": "Python 3"
    },
    "language_info": {
      "name": "python"
    }
  },
  "cells": [
    {
      "cell_type": "markdown",
      "metadata": {
        "id": "view-in-github",
        "colab_type": "text"
      },
      "source": [
        "<a href=\"https://colab.research.google.com/github/kiptuidenis/SKIES/blob/main/Feature_Engineering.ipynb\" target=\"_parent\"><img src=\"https://colab.research.google.com/assets/colab-badge.svg\" alt=\"Open In Colab\"/></a>"
      ]
    },
    {
      "cell_type": "markdown",
      "source": [
        "**Feature Engineering**\n",
        "\n",
        "Main goal of feature engineering  is to create the best representation of data so that models can learn patterns effectively by selecting the most relevant variables\n",
        "\n",
        "**Feature Types**\n",
        "\n",
        "1. Numerical Features:\n",
        "Continous variables that variables that take a range of values\n",
        "2.Categorical Features:\n",
        "Discrete variables that belong to a specific category\n",
        "3. Ordinal Features: Categorical features that have inherent order\n",
        "4. Text features:\n",
        "Unstructured data that must be converted to numerical form\n",
        "5. Image features: Consists of images\n",
        "\n",
        "**Feature Selection Techniques**\n",
        "\n",
        "1. Filter Methods:\n",
        "Use statistical tests to determine the importance of each feature e.g ANOVA teest, Ch-Square Test\n",
        "2. Wrapper methods:\n",
        "Use machine learning models to evaluate feature subsets e.g Recursive Feature Elimination(RFE)"
      ],
      "metadata": {
        "id": "ozwWscdNaHyi"
      }
    },
    {
      "cell_type": "code",
      "execution_count": null,
      "metadata": {
        "id": "W_fYnl81aD4x"
      },
      "outputs": [],
      "source": []
    }
  ]
}